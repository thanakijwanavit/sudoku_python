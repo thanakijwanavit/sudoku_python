{
 "cells": [
  {
   "cell_type": "code",
   "execution_count": 92,
   "metadata": {},
   "outputs": [],
   "source": [
    "from utils import *\n",
    "\n",
    "\n",
    "row_units = [cross(r, cols) for r in rows]\n",
    "column_units = [cross(rows, c) for c in cols]\n",
    "square_units = [cross(rs, cs) for rs in ('ABC','DEF','GHI') for cs in ('123','456','789')]\n",
    "unitlist = row_units + column_units + square_units\n",
    "\n",
    "# TODO: Update the unit list to add the new diagonal units\n",
    "unitlist = unitlist\n",
    "\n",
    "\n",
    "# Must be called after all units (including diagonals) are added to the unitlist\n",
    "units = extract_units(unitlist, boxes)\n",
    "peers = extract_peers(units, boxes)\n",
    "\n",
    "\n",
    "\n",
    "\n",
    "################## custom functions ########################\n",
    "def check_if_solved(values):\n",
    "    ## check if sudoku is solved\n",
    "    if all(len(values[key]) == 1 for key in boxes):\n",
    "        return values # sudoku is solved\n",
    "    else:\n",
    "        False\n",
    "def local_box(key,values):\n",
    "    letters_cat={'A':'ABC','B':'DEF','C':'GHI'}\n",
    "    numbers_cat={'1':'123','2':'456','3':'789'}\n",
    "    letters_key =[dict_key for dict_key,value in letters_cat.items() if key[0] in value]\n",
    "    numbers_key =[dict_key for dict_key,value in numbers_cat.items() if key[1] in value]\n",
    "    return cross(letters_cat[letters_key[0]],numbers_cat[numbers_key[0]])\n",
    "def remove_value_from(group_keys,numbers_to_remove,values,exception=[]):\n",
    "    '''function to remove number from sudoku library'''\n",
    "    ## loop over each number\n",
    "    for number in numbers_to_remove:\n",
    "        ## loop over the dictionary of group we are interested in\n",
    "        for key in group_keys:\n",
    "            # check that the field is not already completed\n",
    "            if len(values[key])>1 and key not in exception:\n",
    "                # remove value from the string by replacing it with \"\"\n",
    "                values[key]=values[key].replace(number,'')\n",
    "    return values\n",
    "def local_row_column(key,values):\n",
    "    '''function to get row of a key \n",
    "    :key: String box_name eg 'A1','A2' \n",
    "    :values: Dict Sudoku board'''\n",
    "    return [box_name for box_name in values.keys() if ((key[0] in box_name) or (key[1] in box_name))]\n",
    "def local_group(key,values):\n",
    "    '''function to get row,column,and local box of a key \n",
    "    :key: String box_name eg 'A1','A2' \n",
    "    :values: Dict Sudoku board\n",
    "    :return: list of local group key\n",
    "    '''\n",
    "    key_local_box= local_box(key,values)\n",
    "#     print(key_local_box)\n",
    "    return [box_name for box_name in values.keys() if ((key[0] in box_name) or (key[1] in box_name)) or (box_name in key_local_box)]\n",
    "def elimination(values):\n",
    "    new_sudoku = values.copy()\n",
    "    stall=False\n",
    "    while stall==False:\n",
    "        original_sudoku= new_sudoku.copy()\n",
    "        for key in new_sudoku.keys():\n",
    "            if len(new_sudoku[key])==1:\n",
    "                remove_value_from(local_group(key,new_sudoku),new_sudoku[key] ,new_sudoku ,exception=[key])\n",
    "        if original_sudoku == new_sudoku:\n",
    "            stall=True\n",
    "    return new_sudoku\n",
    "        \n",
    "def check_if_in_local_group(values,key,value_to_check):\n",
    "#     local_group_keys=local_group(key,values)\n",
    "#     print(local_group_keys)\n",
    "    for local_group_key in local_group(key,values):\n",
    "#         print(local_group_key)\n",
    "#         print(values[local_group_key])\n",
    "        if (key != local_group_key) and (str(value_to_check) in values[local_group_key]):\n",
    "#             print(True)\n",
    "            return True\n",
    "    return False\n",
    "        \n",
    "# def only_choice(values):\n",
    "#     new_sudoku = values.copy()\n",
    "#     stall=False\n",
    "#     while stall==False:\n",
    "#         original_sudoku= new_sudoku.copy()\n",
    "#         for key in new_sudoku.keys():\n",
    "#             #check if box not complete and list local_group keys\n",
    "#             if len(new_sudoku[key])>1:\n",
    "                \n",
    "                \n",
    "        "
   ]
  },
  {
   "cell_type": "code",
   "execution_count": 93,
   "metadata": {},
   "outputs": [],
   "source": [
    "values = grid2values('..3.2.6..9..3.5..1..18.64....81.29..7.......8..67.82....26.95..8..2.3..9..5.1.3..')\n",
    "values = grid2values('..3.2.6.....3.5..1..18.64....81.29..7.......8..67.82....26.95..8..2.3..9..5.1.3..')"
   ]
  },
  {
   "cell_type": "code",
   "execution_count": 101,
   "metadata": {},
   "outputs": [
    {
     "name": "stdout",
     "output_type": "stream",
     "text": [
      "{'A1': '4', 'A2': '8', 'A3': '3', 'A4': '9', 'A5': '2', 'A6': '1', 'A7': '6', 'A8': '5', 'A9': '7', 'B1': '269', 'B2': '69', 'B3': '7', 'B4': '3', 'B5': '4', 'B6': '5', 'B7': '8', 'B8': '29', 'B9': '1', 'C1': '29', 'C2': '59', 'C3': '1', 'C4': '8', 'C5': '7', 'C6': '6', 'C7': '4', 'C8': '29', 'C9': '3', 'D1': '5', 'D2': '4', 'D3': '8', 'D4': '1', 'D5': '3', 'D6': '2', 'D7': '9', 'D8': '7', 'D9': '6', 'E1': '7', 'E2': '2', 'E3': '9', 'E4': '5', 'E5': '6', 'E6': '4', 'E7': '1', 'E8': '3', 'E9': '8', 'F1': '1', 'F2': '3', 'F3': '6', 'F4': '7', 'F5': '9', 'F6': '8', 'F7': '2', 'F8': '4', 'F9': '5', 'G1': '3', 'G2': '7', 'G3': '2', 'G4': '6', 'G5': '8', 'G6': '9', 'G7': '5', 'G8': '1', 'G9': '4', 'H1': '8', 'H2': '1', 'H3': '4', 'H4': '2', 'H5': '5', 'H6': '3', 'H7': '7', 'H8': '6', 'H9': '9', 'I1': '69', 'I2': '69', 'I3': '5', 'I4': '4', 'I5': '1', 'I6': '7', 'I7': '3', 'I8': '8', 'I9': '2'}\n"
     ]
    },
    {
     "data": {
      "text/plain": [
       "False"
      ]
     },
     "execution_count": 101,
     "metadata": {},
     "output_type": "execute_result"
    }
   ],
   "source": [
    "values=elimination(values)\n",
    "print(values)\n",
    "# for key in values.keys():\n",
    "#     for number in '123456789':\n",
    "#         print(check_if_in_local_group(values,key,number))\n",
    "check_if_in_local_group(values,'C2',5)"
   ]
  },
  {
   "cell_type": "code",
   "execution_count": null,
   "metadata": {},
   "outputs": [],
   "source": []
  },
  {
   "cell_type": "code",
   "execution_count": 67,
   "metadata": {},
   "outputs": [
    {
     "data": {
      "text/plain": [
       "{'A1': '4',\n",
       " 'A2': '8',\n",
       " 'A3': '3',\n",
       " 'A4': '9',\n",
       " 'A5': '2',\n",
       " 'A6': '1',\n",
       " 'A7': '6',\n",
       " 'A8': '5',\n",
       " 'A9': '7',\n",
       " 'B1': '269',\n",
       " 'B2': '69',\n",
       " 'B3': '7',\n",
       " 'B4': '3',\n",
       " 'B5': '4',\n",
       " 'B6': '5',\n",
       " 'B7': '8',\n",
       " 'B8': '29',\n",
       " 'B9': '1',\n",
       " 'C1': '29',\n",
       " 'C2': '59',\n",
       " 'C3': '1',\n",
       " 'C4': '8',\n",
       " 'C5': '7',\n",
       " 'C6': '6',\n",
       " 'C7': '4',\n",
       " 'C8': '29',\n",
       " 'C9': '3',\n",
       " 'D1': '5',\n",
       " 'D2': '4',\n",
       " 'D3': '8',\n",
       " 'D4': '1',\n",
       " 'D5': '3',\n",
       " 'D6': '2',\n",
       " 'D7': '9',\n",
       " 'D8': '7',\n",
       " 'D9': '6',\n",
       " 'E1': '7',\n",
       " 'E2': '2',\n",
       " 'E3': '9',\n",
       " 'E4': '5',\n",
       " 'E5': '6',\n",
       " 'E6': '4',\n",
       " 'E7': '1',\n",
       " 'E8': '3',\n",
       " 'E9': '8',\n",
       " 'F1': '1',\n",
       " 'F2': '3',\n",
       " 'F3': '6',\n",
       " 'F4': '7',\n",
       " 'F5': '9',\n",
       " 'F6': '8',\n",
       " 'F7': '2',\n",
       " 'F8': '4',\n",
       " 'F9': '5',\n",
       " 'G1': '3',\n",
       " 'G2': '7',\n",
       " 'G3': '2',\n",
       " 'G4': '6',\n",
       " 'G5': '8',\n",
       " 'G6': '9',\n",
       " 'G7': '5',\n",
       " 'G8': '1',\n",
       " 'G9': '4',\n",
       " 'H1': '8',\n",
       " 'H2': '1',\n",
       " 'H3': '4',\n",
       " 'H4': '2',\n",
       " 'H5': '5',\n",
       " 'H6': '3',\n",
       " 'H7': '7',\n",
       " 'H8': '6',\n",
       " 'H9': '9',\n",
       " 'I1': '69',\n",
       " 'I2': '69',\n",
       " 'I3': '5',\n",
       " 'I4': '4',\n",
       " 'I5': '1',\n",
       " 'I6': '7',\n",
       " 'I7': '3',\n",
       " 'I8': '8',\n",
       " 'I9': '2'}"
      ]
     },
     "execution_count": 67,
     "metadata": {},
     "output_type": "execute_result"
    }
   ],
   "source": [
    "elimination(values)"
   ]
  },
  {
   "cell_type": "code",
   "execution_count": 40,
   "metadata": {},
   "outputs": [
    {
     "name": "stdout",
     "output_type": "stream",
     "text": [
      "['A1', 'A2', 'A3', 'B1', 'B2', 'B3', 'C1', 'C2', 'C3']\n"
     ]
    },
    {
     "data": {
      "text/plain": [
       "['A1',\n",
       " 'A2',\n",
       " 'A3',\n",
       " 'A4',\n",
       " 'A5',\n",
       " 'A6',\n",
       " 'A7',\n",
       " 'A8',\n",
       " 'A9',\n",
       " 'B1',\n",
       " 'B2',\n",
       " 'B3',\n",
       " 'C1',\n",
       " 'C2',\n",
       " 'C3',\n",
       " 'D1',\n",
       " 'E1',\n",
       " 'F1',\n",
       " 'G1',\n",
       " 'H1',\n",
       " 'I1']"
      ]
     },
     "execution_count": 40,
     "metadata": {},
     "output_type": "execute_result"
    }
   ],
   "source": [
    "keys_for_local_box=local_box('A2',values)\n",
    "remove_value_from(keys_for_local_box,'1',values,['A2'])\n",
    "local_group('A1',values)"
   ]
  },
  {
   "cell_type": "code",
   "execution_count": 7,
   "metadata": {},
   "outputs": [
    {
     "data": {
      "text/plain": [
       "{'A1': '123456789',\n",
       " 'A2': '123456789',\n",
       " 'A3': '3',\n",
       " 'A4': '123456789',\n",
       " 'A5': '2',\n",
       " 'A6': '123456789',\n",
       " 'A7': '6',\n",
       " 'A8': '123456789',\n",
       " 'A9': '123456789',\n",
       " 'B1': '9',\n",
       " 'B2': '123456789',\n",
       " 'B3': '123456789',\n",
       " 'B4': '3',\n",
       " 'B5': '123456789',\n",
       " 'B6': '5',\n",
       " 'B7': '123456789',\n",
       " 'B8': '123456789',\n",
       " 'B9': '1',\n",
       " 'C1': '123456789',\n",
       " 'C2': '123456789',\n",
       " 'C3': '1',\n",
       " 'C4': '8',\n",
       " 'C5': '123456789',\n",
       " 'C6': '6',\n",
       " 'C7': '4',\n",
       " 'C8': '123456789',\n",
       " 'C9': '123456789',\n",
       " 'D1': '123456789',\n",
       " 'D2': '123456789',\n",
       " 'D3': '8',\n",
       " 'D4': '1',\n",
       " 'D5': '123456789',\n",
       " 'D6': '2',\n",
       " 'D7': '9',\n",
       " 'D8': '123456789',\n",
       " 'D9': '123456789',\n",
       " 'E1': '7',\n",
       " 'E2': '123456789',\n",
       " 'E3': '123456789',\n",
       " 'E4': '123456789',\n",
       " 'E5': '123456789',\n",
       " 'E6': '123456789',\n",
       " 'E7': '123456789',\n",
       " 'E8': '123456789',\n",
       " 'E9': '8',\n",
       " 'F1': '123456789',\n",
       " 'F2': '123456789',\n",
       " 'F3': '6',\n",
       " 'F4': '7',\n",
       " 'F5': '123456789',\n",
       " 'F6': '8',\n",
       " 'F7': '2',\n",
       " 'F8': '123456789',\n",
       " 'F9': '123456789',\n",
       " 'G1': '123456789',\n",
       " 'G2': '123456789',\n",
       " 'G3': '2',\n",
       " 'G4': '6',\n",
       " 'G5': '123456789',\n",
       " 'G6': '9',\n",
       " 'G7': '5',\n",
       " 'G8': '123456789',\n",
       " 'G9': '123456789',\n",
       " 'H1': '8',\n",
       " 'H2': '123456789',\n",
       " 'H3': '123456789',\n",
       " 'H4': '2',\n",
       " 'H5': '123456789',\n",
       " 'H6': '3',\n",
       " 'H7': '123456789',\n",
       " 'H8': '123456789',\n",
       " 'H9': '9',\n",
       " 'I1': '123456789',\n",
       " 'I2': '123456789',\n",
       " 'I3': '5',\n",
       " 'I4': '123456789',\n",
       " 'I5': '1',\n",
       " 'I6': '123456789',\n",
       " 'I7': '3',\n",
       " 'I8': '123456789',\n",
       " 'I9': '123456789'}"
      ]
     },
     "execution_count": 7,
     "metadata": {},
     "output_type": "execute_result"
    }
   ],
   "source": [
    "values"
   ]
  },
  {
   "cell_type": "code",
   "execution_count": 15,
   "metadata": {},
   "outputs": [
    {
     "data": {
      "text/plain": [
       "defaultdict(set,\n",
       "            {'I6': {'1', '2', '3', '4', '5', '6', '7', '8', '9'},\n",
       "             'I7': {'3'},\n",
       "             'I8': {'1', '2', '3', '4', '5', '6', '7', '8', '9'}})"
      ]
     },
     "execution_count": 15,
     "metadata": {},
     "output_type": "execute_result"
    }
   ],
   "source": [
    "extract_peers(values, ['I6','I7','I8'])"
   ]
  },
  {
   "cell_type": "code",
   "execution_count": 17,
   "metadata": {},
   "outputs": [
    {
     "data": {
      "text/plain": [
       "defaultdict(list, {'I9': ['I9']})"
      ]
     },
     "execution_count": 17,
     "metadata": {},
     "output_type": "execute_result"
    }
   ],
   "source": [
    "extract_units(values, ['I9'])"
   ]
  },
  {
   "cell_type": "code",
   "execution_count": 29,
   "metadata": {},
   "outputs": [
    {
     "data": {
      "text/plain": [
       "['A1', 'A2', 'A3', 'B1', 'B2', 'B3', 'C1', 'C2', 'C3']"
      ]
     },
     "execution_count": 29,
     "metadata": {},
     "output_type": "execute_result"
    }
   ],
   "source": [
    "local_box('A2',values)"
   ]
  },
  {
   "cell_type": "code",
   "execution_count": null,
   "metadata": {},
   "outputs": [],
   "source": []
  }
 ],
 "metadata": {
  "kernelspec": {
   "display_name": "Python 3",
   "language": "python",
   "name": "python3"
  },
  "language_info": {
   "codemirror_mode": {
    "name": "ipython",
    "version": 3
   },
   "file_extension": ".py",
   "mimetype": "text/x-python",
   "name": "python",
   "nbconvert_exporter": "python",
   "pygments_lexer": "ipython3",
   "version": "3.6.8"
  }
 },
 "nbformat": 4,
 "nbformat_minor": 2
}
